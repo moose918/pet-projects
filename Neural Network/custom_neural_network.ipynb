{
 "cells": [
  {
   "cell_type": "markdown",
   "id": "8ad6e92f",
   "metadata": {},
   "source": [
    "# Handle imports"
   ]
  },
  {
   "cell_type": "code",
   "execution_count": 5,
   "id": "70601ab4",
   "metadata": {},
   "outputs": [],
   "source": [
    "import numpy as np\n",
    "import math as m"
   ]
  },
  {
   "cell_type": "markdown",
   "id": "8c25d727",
   "metadata": {},
   "source": [
    "# Initialize functions"
   ]
  },
  {
   "cell_type": "code",
   "execution_count": 6,
   "id": "7bebc909",
   "metadata": {},
   "outputs": [],
   "source": [
    "'''\n",
    "    Debugging\n",
    "'''\n",
    "def print_params(a, b, c):\n",
    "    for line in a:\n",
    "        print(line)\n",
    "    print()\n",
    "    for line in b:\n",
    "        print(line)\n",
    "    print()\n",
    "    for line in c:\n",
    "        print(line)\n",
    "    \n",
    "'''\n",
    "    Returns an np array from the given array\n",
    "'''\n",
    "def gen_array(arr):\n",
    "    return np.array(arr, dtype=float)\n",
    "\n",
    "'''\n",
    "    Returns an np array of ones\n",
    "'''\n",
    "def gen_ones(r, c):\n",
    "    return np.ones((r, c), dtype=float)\n",
    "'''\n",
    "    Returns an np array of zeroes\n",
    "'''\n",
    "def gen_zeroes(r, c):\n",
    "    return np.zeros((r, c), dtype=float)\n",
    "\n",
    "'''\n",
    "    Activation function\n",
    "'''\n",
    "def sigmoid(z):\n",
    "    return 1/(1+m.e**(-z))\n",
    "\n",
    "def sigmoid_prime(z):\n",
    "    y = sigmoid(z)\n",
    "    return y-y**2\n",
    "\n",
    "'''\n",
    "    Calculates the activation values at each node\n",
    "'''\n",
    "def feedforward(x, weights, biases):\n",
    "    a_values = [x]\n",
    "    for l_dex in range(1, len(weights)):\n",
    "        a_curr = sigmoid(np.matmul(a_values[l_dex-1], weights[l_dex]) + biases[l_dex])\n",
    "        a_values.append(a_curr)\n",
    "        \n",
    "    return a_values\n",
    "\n",
    "'''\n",
    "    The SOSE loss function\n",
    "'''\n",
    "def calc_loss(y, t):\n",
    "    return 0.5 * np.sum((y-t)**2)\n",
    "\n",
    "'''\n",
    "    Calculates the delta values at each node\n",
    "'''\n",
    "def calc_deltas(t, a, weights, biases):\n",
    "    ETA = 0.1\n",
    "    delta_vals = []\n",
    "    \n",
    "    # handle the outer layer, (y - t)a(1-a)\n",
    "    delta_curr = np.multiply(np.multiply((a[-1] - t), a[-1]), 1-a[-1])\n",
    "    delta_vals.append(delta_curr)\n",
    "    \n",
    "    # now for the nodes in the inner layers\n",
    "    # figured that one can use matrix multiplication to get the sum of products to the next layer\n",
    "    for l_dex in range(len(weights)-1, 1, -1):    \n",
    "        delta_curr = np.multiply(np.multiply(np.matmul(delta_curr, np.transpose(weights[l_dex])), a[l_dex-1]), 1-a[l_dex-1])\n",
    "        delta_vals.append(delta_curr)\n",
    "    \n",
    "    # deltas are calculated from the back layers to the front, so this array needs to be reversed\n",
    "    # in order for it to match the activation value array\n",
    "    delta_vals.append([])\n",
    "    delta_vals.reverse()\n",
    "    return delta_vals\n",
    "\n",
    "'''\n",
    "    Performs the weight and bias updates\n",
    "'''\n",
    "def backpropagation(t, a, weights, biases):\n",
    "    ETA = 0.1\n",
    "    \n",
    "    deltas = calc_deltas(t, a, weights, biases)\n",
    "    \n",
    "    # also figured that one can use matrix multiplication to simplify the process\n",
    "    # would like to determine a simpler method to reshape the array as transposing does not give the required (n, 1) shape\n",
    "    for l_dex in range(1, len(weights)):\n",
    "        weights[l_dex] -= ETA * np.multiply(np.reshape(np.array(a[l_dex-1]), (a[l_dex-1].size, 1)), deltas[l_dex])\n",
    "            \n",
    "        biases[l_dex] -= ETA*deltas[l_dex]\n",
    "      \n",
    "    return weights, biases"
   ]
  },
  {
   "cell_type": "markdown",
   "id": "f895523e",
   "metadata": {},
   "source": [
    "# Initialize the NN"
   ]
  },
  {
   "cell_type": "code",
   "execution_count": 7,
   "id": "6ecd4cdb",
   "metadata": {},
   "outputs": [],
   "source": [
    "NUM_INPUT = 4\n",
    "NUM_HIDDEN = 6\n",
    "NUM_OUTPUT = 3\n",
    "\n",
    "W1 = gen_ones(NUM_INPUT, NUM_HIDDEN)\n",
    "W2 = gen_ones(NUM_HIDDEN, NUM_OUTPUT)\n",
    "weights = [[], W1, W2]\n",
    "\n",
    "b1 = gen_ones(1, NUM_HIDDEN)\n",
    "b2 = gen_ones(1, NUM_OUTPUT)\n",
    "biases = [[], b1, b2]\n",
    "\n",
    "x = gen_zeroes(1, NUM_INPUT)"
   ]
  },
  {
   "cell_type": "markdown",
   "id": "e75d536e",
   "metadata": {},
   "source": [
    "# Retrieve input"
   ]
  },
  {
   "cell_type": "code",
   "execution_count": 8,
   "id": "74b12667",
   "metadata": {},
   "outputs": [
    {
     "name": "stdout",
     "output_type": "stream",
     "text": [
      "-3\n",
      "2\n",
      "1\n",
      "-1\n",
      "1\n",
      "0\n",
      "0\n"
     ]
    }
   ],
   "source": [
    "line = []\n",
    "\n",
    "for count in range(NUM_INPUT + NUM_OUTPUT):\n",
    "    val = float(input())\n",
    "    line.append(val)\n",
    "\n",
    "x = gen_array(line[:NUM_INPUT])\n",
    "t = gen_array(line[NUM_INPUT:NUM_INPUT + NUM_OUTPUT])"
   ]
  },
  {
   "cell_type": "code",
   "execution_count": 9,
   "id": "4adbd11d",
   "metadata": {},
   "outputs": [],
   "source": [
    "# print(x)\n",
    "# print(t)"
   ]
  },
  {
   "cell_type": "markdown",
   "id": "5a7c4449",
   "metadata": {},
   "source": [
    "# Begin feedforward step"
   ]
  },
  {
   "cell_type": "code",
   "execution_count": 10,
   "id": "badda206",
   "metadata": {},
   "outputs": [],
   "source": [
    "a = feedforward(x, weights, biases)"
   ]
  },
  {
   "cell_type": "code",
   "execution_count": 11,
   "id": "3a52b25c",
   "metadata": {},
   "outputs": [],
   "source": [
    "# print_params(a, weights, biases)"
   ]
  },
  {
   "cell_type": "markdown",
   "id": "5f093d1a",
   "metadata": {},
   "source": [
    "# Begin 1 iter of backpropagation"
   ]
  },
  {
   "cell_type": "code",
   "execution_count": 12,
   "id": "14c46d3d",
   "metadata": {},
   "outputs": [],
   "source": [
    "def printout(a, weights, biases):\n",
    "    for line in a:\n",
    "        print(line)\n",
    "    print()\n",
    "    for layer in weights:\n",
    "        print(layer)\n",
    "    print()\n",
    "    for layer in biases:\n",
    "        print(layer)\n",
    "\n",
    "weights_new, biases_new = backpropagation(t, a, weights, biases)"
   ]
  },
  {
   "cell_type": "markdown",
   "id": "845dc84d",
   "metadata": {},
   "source": [
    "# Calculate activation values of updated NN"
   ]
  },
  {
   "cell_type": "code",
   "execution_count": 13,
   "id": "9a15c781",
   "metadata": {},
   "outputs": [],
   "source": [
    "a_new = feedforward(x, weights_new, biases_new)"
   ]
  },
  {
   "cell_type": "code",
   "execution_count": 14,
   "id": "1496c8f4",
   "metadata": {},
   "outputs": [],
   "source": [
    "# printout(weights, biases, a)"
   ]
  },
  {
   "cell_type": "code",
   "execution_count": 15,
   "id": "ff57f8aa",
   "metadata": {},
   "outputs": [],
   "source": [
    "# printout(weights_new, biases_new, a_new)"
   ]
  },
  {
   "cell_type": "markdown",
   "id": "95f0f691",
   "metadata": {},
   "source": [
    "# Calculate and print old and new Loss outputs"
   ]
  },
  {
   "cell_type": "code",
   "execution_count": 16,
   "id": "aaffb23d",
   "metadata": {},
   "outputs": [
    {
     "name": "stdout",
     "output_type": "stream",
     "text": [
      "0.9645\n",
      "0.9636\n"
     ]
    }
   ],
   "source": [
    "L = calc_loss(a[-1], t)\n",
    "L_new = calc_loss(a_new[-1], t)\n",
    "print(f\"{L:.4f}\\n{L_new:.4f}\")"
   ]
  },
  {
   "cell_type": "code",
   "execution_count": null,
   "id": "4df57e67",
   "metadata": {},
   "outputs": [],
   "source": []
  }
 ],
 "metadata": {
  "kernelspec": {
   "display_name": "Python 3 (ipykernel)",
   "language": "python",
   "name": "python3"
  },
  "language_info": {
   "codemirror_mode": {
    "name": "ipython",
    "version": 3
   },
   "file_extension": ".py",
   "mimetype": "text/x-python",
   "name": "python",
   "nbconvert_exporter": "python",
   "pygments_lexer": "ipython3",
   "version": "3.10.12"
  }
 },
 "nbformat": 4,
 "nbformat_minor": 5
}
