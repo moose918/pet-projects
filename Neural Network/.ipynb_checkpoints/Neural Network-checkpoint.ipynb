{
 "cells": [
  {
   "cell_type": "markdown",
   "metadata": {},
   "source": [
    "# Imports"
   ]
  },
  {
   "cell_type": "code",
   "execution_count": 110,
   "metadata": {
    "ExecuteTime": {
     "end_time": "2023-05-23T10:09:42.112126400Z",
     "start_time": "2023-05-23T10:09:42.093046500Z"
    }
   },
   "outputs": [],
   "source": [
    "import numpy as np"
   ]
  },
  {
   "cell_type": "markdown",
   "metadata": {},
   "source": [
    "# Functions"
   ]
  },
  {
   "cell_type": "code",
   "execution_count": 111,
   "metadata": {
    "ExecuteTime": {
     "end_time": "2023-05-23T10:09:42.145823600Z",
     "start_time": "2023-05-23T10:09:42.107607200Z"
    }
   },
   "outputs": [],
   "source": [
    "def np_array(x):\n",
    "    return np.array(x, dtype='float')\n",
    "\n",
    "def sig(z):\n",
    "    s = lambda x: 1 / (1 + np.exp(-x))\n",
    "    return s(z)\n",
    "\n",
    "def softmax(z):\n",
    "    exp_z = np.exp(z)\n",
    "    T = sum(exp_z)\n",
    "    return exp_z/T\n",
    "\n",
    "def L_CE(y, t):\n",
    "    return -sum(np.multiply(t, np.log(y)))\n",
    "\n",
    "def softmax_prime(z):\n",
    "    exp_z = np.exp(z)\n",
    "    T = sum(exp_z)\n",
    "    return exp_z*(T-exp_z)/T**2\n",
    "\n",
    "def forwardprop(x, weights, biases):\n",
    "    a = [x]\n",
    "\n",
    "    for l in range(1, L):\n",
    "       z_l = np.matmul(a[l-1].transpose(), weights[l]) + biases[l]\n",
    "\n",
    "       if l != L-1:\n",
    "           a_l = sig(z_l)\n",
    "       else:\n",
    "           a_l = softmax(z_l)\n",
    "       a.append(a_l)\n",
    "\n",
    "    for a_l in a:\n",
    "        print(a_l)\n",
    "\n",
    "    return a\n",
    "\n",
    "def calc_deltas(a, weights, t):\n",
    "    d_l = a[-1] - t\n",
    "    deltas = [d_l]\n",
    "\n",
    "    for l in range(L-2, 0, -1):\n",
    "        d_l = np.multiply(np.matmul(weights[l+1], d_l), softmax_prime(a[l-1]))\n",
    "\n",
    "        deltas.append(d_l)\n",
    "\n",
    "    deltas.append([])\n",
    "    deltas.reverse()\n",
    "\n",
    "    for d_l in deltas:\n",
    "        print(d_l)\n",
    "\n",
    "    return deltas"
   ]
  },
  {
   "cell_type": "markdown",
   "metadata": {},
   "source": [
    "# NN Data"
   ]
  },
  {
   "cell_type": "code",
   "execution_count": 112,
   "metadata": {
    "ExecuteTime": {
     "end_time": "2023-05-23T10:09:42.145823600Z",
     "start_time": "2023-05-23T10:09:42.122703200Z"
    }
   },
   "outputs": [],
   "source": [
    "L = 3\n",
    "\n",
    "W1 = np_array(\n",
    "    [\n",
    "        [-2, -1],\n",
    "        [3, 0]\n",
    "    ]\n",
    ")\n",
    "W2 = np_array(\n",
    "    [\n",
    "        [2, 3],\n",
    "        [-1, -2]\n",
    "    ]\n",
    ")\n",
    "weights = [\n",
    "    [], W1, W2\n",
    "]\n",
    "\n",
    "b1 = np_array([0.5, 1.5])\n",
    "b2 = np_array([2, -1])\n",
    "biases = [\n",
    "    [], b1, b2\n",
    "]\n",
    "\n",
    "x = np_array([-1, 1])\n",
    "t = np_array([1, 0])"
   ]
  },
  {
   "cell_type": "markdown",
   "metadata": {},
   "source": [
    "# Prev ex\n",
    "\n",
    "W1 = np_array(\n",
    "    [\n",
    "        [1, -1],\n",
    "        [-3, 2]\n",
    "    ]\n",
    ")\n",
    "W2 = np_array(\n",
    "    [\n",
    "        [-2, 0],\n",
    "        [0, 3]\n",
    "    ]\n",
    ")\n",
    "weights = [\n",
    "    [], W1, W2\n",
    "]\n",
    "\n",
    "b1 = np_array([0, 1])\n",
    "b2 = np_array([1, -2])\n",
    "biases = [\n",
    "    [], b1, b2\n",
    "]\n",
    "\n",
    "x = np_array([1, -2])\n",
    "t = np_array([1, 0])"
   ]
  },
  {
   "cell_type": "markdown",
   "metadata": {},
   "source": [
    "# Sigmoid as hidden layer activation, softmax as output layer activation"
   ]
  },
  {
   "cell_type": "code",
   "execution_count": 113,
   "metadata": {
    "ExecuteTime": {
     "end_time": "2023-05-23T10:09:42.146828200Z",
     "start_time": "2023-05-23T10:09:42.129671Z"
    }
   },
   "outputs": [
    {
     "name": "stdout",
     "output_type": "stream",
     "text": [
      "[-1.  1.]\n",
      "[0.99592986 0.92414182]\n",
      "[0.94922356 0.05077644]\n"
     ]
    },
    {
     "data": {
      "text/plain": [
       "0.052110929763763976"
      ]
     },
     "execution_count": 113,
     "metadata": {},
     "output_type": "execute_result"
    }
   ],
   "source": [
    "a = forwardprop(x, weights, biases)\n",
    "L_CE(a[-1], t)"
   ]
  },
  {
   "cell_type": "markdown",
   "metadata": {},
   "source": [
    "# Backpropagation"
   ]
  },
  {
   "cell_type": "code",
   "execution_count": 114,
   "metadata": {
    "ExecuteTime": {
     "end_time": "2023-05-23T10:09:42.159395Z",
     "start_time": "2023-05-23T10:09:42.142809600Z"
    }
   },
   "outputs": [
    {
     "name": "stdout",
     "output_type": "stream",
     "text": [
      "[]\n",
      "[ 0.0053312 -0.0053312]\n",
      "[-0.05077644  0.05077644]\n"
     ]
    }
   ],
   "source": [
    "deltas = calc_deltas(a, weights, t)"
   ]
  },
  {
   "cell_type": "code",
   "execution_count": 115,
   "metadata": {
    "ExecuteTime": {
     "end_time": "2023-05-23T10:09:42.164943Z",
     "start_time": "2023-05-23T10:09:42.154415100Z"
    }
   },
   "outputs": [],
   "source": [
    "ETA = 0.1\n",
    "\n",
    "new_weights = weights.copy()\n",
    "new_biases = biases.copy()\n",
    "\n",
    "for l in range(1, L):\n",
    "    new_weights[l] -= ETA*np.matmul(a[l], deltas[l].transpose())\n",
    "    new_biases[l] -= ETA*deltas[l]\n"
   ]
  },
  {
   "cell_type": "code",
   "execution_count": 117,
   "metadata": {
    "ExecuteTime": {
     "end_time": "2023-05-23T10:10:23.857986500Z",
     "start_time": "2023-05-23T10:10:23.834875800Z"
    }
   },
   "outputs": [
    {
     "name": "stdout",
     "output_type": "stream",
     "text": [
      "[-1.  1.]\n",
      "[0.9959277  0.92417919]\n",
      "[0.94971269 0.05028731]\n"
     ]
    },
    {
     "data": {
      "text/plain": [
       "0.05159577052645336"
      ]
     },
     "execution_count": 117,
     "metadata": {},
     "output_type": "execute_result"
    }
   ],
   "source": [
    "a1 = forwardprop(x, new_weights, new_biases)\n",
    "L_CE(a1[-1], t)"
   ]
  },
  {
   "cell_type": "code",
   "execution_count": null,
   "metadata": {},
   "outputs": [],
   "source": []
  }
 ],
 "metadata": {
  "kernelspec": {
   "display_name": "Python 3 (ipykernel)",
   "language": "python",
   "name": "python3"
  },
  "language_info": {
   "codemirror_mode": {
    "name": "ipython",
    "version": 3
   },
   "file_extension": ".py",
   "mimetype": "text/x-python",
   "name": "python",
   "nbconvert_exporter": "python",
   "pygments_lexer": "ipython3",
   "version": "3.10.12"
  }
 },
 "nbformat": 4,
 "nbformat_minor": 1
}
