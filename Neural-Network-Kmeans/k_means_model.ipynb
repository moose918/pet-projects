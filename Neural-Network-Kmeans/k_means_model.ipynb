{
 "cells": [
  {
   "cell_type": "markdown",
   "metadata": {},
   "source": [
    "# Managed Imports"
   ]
  },
  {
   "cell_type": "code",
   "execution_count": 76,
   "metadata": {
    "ExecuteTime": {
     "end_time": "2023-05-31T16:55:12.968306600Z",
     "start_time": "2023-05-31T16:55:12.929308100Z"
    },
    "collapsed": true
   },
   "outputs": [],
   "source": [
    "import numpy as np\n",
    "from numpy.linalg import norm as norm2"
   ]
  },
  {
   "cell_type": "markdown",
   "metadata": {},
   "source": [
    "# Defined functions"
   ]
  },
  {
   "cell_type": "code",
   "execution_count": 77,
   "metadata": {
    "ExecuteTime": {
     "end_time": "2023-05-31T16:55:12.969307500Z",
     "start_time": "2023-05-31T16:55:12.941306400Z"
    }
   },
   "outputs": [],
   "source": [
    "def SOSE(arr_x, assigned_x, arr_c):\n",
    "    sose = 0\n",
    "\n",
    "    for dex in range(len(arr_x)):\n",
    "        sose += norm2(arr_x[dex] - arr_c[assigned_x[dex]])**2\n",
    "    return sose\n",
    "\n",
    "def assignToClusters(arr_x, assigned_x, arr_c):\n",
    "    for x_dex in range(len(arr_x)):\n",
    "        min_dex = 0\n",
    "        min_val = norm2(arr_x[x_dex] - arr_c[min_dex])\n",
    "\n",
    "        for cluster_dex in range(1, len(arr_c)):\n",
    "            val = norm2(arr_x[x_dex] - arr_c[cluster_dex])\n",
    "\n",
    "            if val < min_val:\n",
    "                min_val = val\n",
    "                min_dex = cluster_dex\n",
    "\n",
    "        assigned_x[x_dex] = min_dex\n",
    "\n",
    "    return assigned_x\n",
    "\n",
    "def updateClusterCentres(arr_x, assigned_x, arr_c):\n",
    "    avg_c = np.zeros(arr_c.shape, dtype=float)\n",
    "    assign_count = np.zeros((arr_c.shape[0], 1))\n",
    "\n",
    "    for x_dex in range(len(arr_x)):\n",
    "        avg_c[assigned_x[x_dex]] += arr_x[x_dex]\n",
    "        assign_count[assigned_x[x_dex]] += 1\n",
    "\n",
    "    for c_dex in range(len(arr_c)):\n",
    "        avg_c[c_dex] /= assign_count[c_dex]\n",
    "\n",
    "    return avg_c\n"
   ]
  },
  {
   "cell_type": "markdown",
   "metadata": {},
   "source": [
    "# Dataset"
   ]
  },
  {
   "cell_type": "code",
   "execution_count": 78,
   "metadata": {
    "ExecuteTime": {
     "end_time": "2023-05-31T16:55:12.992317900Z",
     "start_time": "2023-05-31T16:55:12.948311100Z"
    }
   },
   "outputs": [],
   "source": [
    "DATASET = np.array([\n",
    "    [0.22, 0.33],\n",
    "    [0.45, 0.76],\n",
    "    [0.73, 0.39],\n",
    "    [0.25, 0.35],\n",
    "    [0.51, 0.69],\n",
    "    [0.69, 0.42],\n",
    "    [0.41, 0.49],\n",
    "    [0.15, 0.29],\n",
    "    [0.81, 0.32],\n",
    "    [0.50, 0.88],\n",
    "    [0.23, 0.31],\n",
    "    [0.77, 0.30],\n",
    "    [0.56, 0.75],\n",
    "    [0.11, 0.38],\n",
    "    [0.81, 0.33],\n",
    "    [0.59, 0.77],\n",
    "    [0.10, 0.89],\n",
    "    [0.55, 0.09],\n",
    "    [0.75, 0.35],\n",
    "    [0.44, 0.55]\n",
    "])"
   ]
  },
  {
   "cell_type": "markdown",
   "metadata": {},
   "source": [
    "# Initial cluster centre retrieval"
   ]
  },
  {
   "cell_type": "code",
   "execution_count": 79,
   "metadata": {
    "ExecuteTime": {
     "end_time": "2023-05-31T16:55:28.313381500Z",
     "start_time": "2023-05-31T16:55:12.958340300Z"
    }
   },
   "outputs": [],
   "source": [
    "K = 3\n",
    "DIM = 2\n",
    "N = 20\n",
    "\n",
    "assigned_x = np.zeros((N), dtype=int)\n",
    "\n",
    "arr_centres = np.zeros((K, DIM))\n",
    "for k in range(K):\n",
    "    for dex in range(DIM):\n",
    "        arr_centres[k][dex] = float(input())\n",
    "# arr_centres = np.array([\n",
    "#     [0.45, 0.55],\n",
    "#     [0.70, 0.71],\n",
    "#     [0.11, 0.67]\n",
    "# ])"
   ]
  },
  {
   "cell_type": "markdown",
   "metadata": {},
   "source": [
    "# Initial SOSE"
   ]
  },
  {
   "cell_type": "code",
   "execution_count": 80,
   "metadata": {
    "ExecuteTime": {
     "end_time": "2023-05-31T16:55:28.313381500Z",
     "start_time": "2023-05-31T16:55:28.293383200Z"
    }
   },
   "outputs": [
    {
     "name": "stdout",
     "output_type": "stream",
     "text": [
      "1.7593\n"
     ]
    }
   ],
   "source": [
    "assigned_x = assignToClusters(DATASET, assigned_x, arr_centres)\n",
    "initial_sose = SOSE(DATASET, assigned_x, arr_centres)\n",
    "print(f\"{initial_sose:.4f}\")"
   ]
  },
  {
   "cell_type": "markdown",
   "metadata": {},
   "source": [
    "# SOSE after cluster update"
   ]
  },
  {
   "cell_type": "code",
   "execution_count": 81,
   "metadata": {
    "ExecuteTime": {
     "end_time": "2023-05-31T16:55:28.314382400Z",
     "start_time": "2023-05-31T16:55:28.302389700Z"
    }
   },
   "outputs": [
    {
     "name": "stdout",
     "output_type": "stream",
     "text": [
      "1.1987\n"
     ]
    }
   ],
   "source": [
    "arr_centres = updateClusterCentres(DATASET, assigned_x, arr_centres)\n",
    "assigned_x = assignToClusters(DATASET, assigned_x, arr_centres)\n",
    "first_iter_sose = SOSE(DATASET, assigned_x, arr_centres)\n",
    "print(f\"{first_iter_sose:.4f}\")"
   ]
  }
 ],
 "metadata": {
  "kernelspec": {
   "display_name": "Python 3 (ipykernel)",
   "language": "python",
   "name": "python3"
  },
  "language_info": {
   "codemirror_mode": {
    "name": "ipython",
    "version": 3
   },
   "file_extension": ".py",
   "mimetype": "text/x-python",
   "name": "python",
   "nbconvert_exporter": "python",
   "pygments_lexer": "ipython3",
   "version": "3.10.12"
  }
 },
 "nbformat": 4,
 "nbformat_minor": 1
}
